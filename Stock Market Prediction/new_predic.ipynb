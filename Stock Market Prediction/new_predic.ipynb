{
 "cells": [
  {
   "cell_type": "code",
   "execution_count": 76,
   "id": "2c37d418",
   "metadata": {},
   "outputs": [],
   "source": [
    "import pandas as pd\n",
    "import numpy as np\n",
    "import matplotlib.pyplot as plt\n",
    "from datetime import datetime"
   ]
  },
  {
   "cell_type": "code",
   "execution_count": 77,
   "id": "1e1c0a63",
   "metadata": {},
   "outputs": [],
   "source": [
    "df=pd.read_csv(\"web_interface/sbi.csv\")\n",
    "df=df.loc[::-1]"
   ]
  },
  {
   "cell_type": "code",
   "execution_count": 78,
   "id": "088fe826",
   "metadata": {},
   "outputs": [],
   "source": [
    "# df=df.reset_index(drop=True)\n"
   ]
  },
  {
   "cell_type": "code",
   "execution_count": 79,
   "id": "2e870fbb",
   "metadata": {},
   "outputs": [
    {
     "data": {
      "text/html": [
       "<div>\n",
       "<style scoped>\n",
       "    .dataframe tbody tr th:only-of-type {\n",
       "        vertical-align: middle;\n",
       "    }\n",
       "\n",
       "    .dataframe tbody tr th {\n",
       "        vertical-align: top;\n",
       "    }\n",
       "\n",
       "    .dataframe thead th {\n",
       "        text-align: right;\n",
       "    }\n",
       "</style>\n",
       "<table border=\"1\" class=\"dataframe\">\n",
       "  <thead>\n",
       "    <tr style=\"text-align: right;\">\n",
       "      <th></th>\n",
       "      <th>Unnamed: 0</th>\n",
       "      <th>Date</th>\n",
       "      <th>open</th>\n",
       "      <th>high</th>\n",
       "      <th>low</th>\n",
       "      <th>close</th>\n",
       "      <th>volume</th>\n",
       "      <th>unknown</th>\n",
       "    </tr>\n",
       "  </thead>\n",
       "  <tbody>\n",
       "    <tr>\n",
       "      <th>3440</th>\n",
       "      <td>3440</td>\n",
       "      <td>2007-01-02</td>\n",
       "      <td>125.00</td>\n",
       "      <td>126.00</td>\n",
       "      <td>124.30</td>\n",
       "      <td>125.36</td>\n",
       "      <td>4081440</td>\n",
       "      <td>0</td>\n",
       "    </tr>\n",
       "    <tr>\n",
       "      <th>3439</th>\n",
       "      <td>3439</td>\n",
       "      <td>2007-01-03</td>\n",
       "      <td>125.00</td>\n",
       "      <td>126.99</td>\n",
       "      <td>123.71</td>\n",
       "      <td>126.49</td>\n",
       "      <td>6825540</td>\n",
       "      <td>0</td>\n",
       "    </tr>\n",
       "    <tr>\n",
       "      <th>3438</th>\n",
       "      <td>3438</td>\n",
       "      <td>2007-01-04</td>\n",
       "      <td>127.00</td>\n",
       "      <td>128.00</td>\n",
       "      <td>123.72</td>\n",
       "      <td>124.30</td>\n",
       "      <td>6544400</td>\n",
       "      <td>0</td>\n",
       "    </tr>\n",
       "    <tr>\n",
       "      <th>3437</th>\n",
       "      <td>3437</td>\n",
       "      <td>2007-01-05</td>\n",
       "      <td>124.10</td>\n",
       "      <td>125.78</td>\n",
       "      <td>123.31</td>\n",
       "      <td>124.41</td>\n",
       "      <td>6962270</td>\n",
       "      <td>0</td>\n",
       "    </tr>\n",
       "    <tr>\n",
       "      <th>3436</th>\n",
       "      <td>3436</td>\n",
       "      <td>2007-01-08</td>\n",
       "      <td>124.88</td>\n",
       "      <td>124.88</td>\n",
       "      <td>120.71</td>\n",
       "      <td>121.37</td>\n",
       "      <td>8747010</td>\n",
       "      <td>0</td>\n",
       "    </tr>\n",
       "    <tr>\n",
       "      <th>...</th>\n",
       "      <td>...</td>\n",
       "      <td>...</td>\n",
       "      <td>...</td>\n",
       "      <td>...</td>\n",
       "      <td>...</td>\n",
       "      <td>...</td>\n",
       "      <td>...</td>\n",
       "      <td>...</td>\n",
       "    </tr>\n",
       "    <tr>\n",
       "      <th>4</th>\n",
       "      <td>4</td>\n",
       "      <td>2020-11-14</td>\n",
       "      <td>232.00</td>\n",
       "      <td>232.90</td>\n",
       "      <td>227.75</td>\n",
       "      <td>229.65</td>\n",
       "      <td>7753219</td>\n",
       "      <td>0</td>\n",
       "    </tr>\n",
       "    <tr>\n",
       "      <th>3</th>\n",
       "      <td>3</td>\n",
       "      <td>2020-11-17</td>\n",
       "      <td>231.85</td>\n",
       "      <td>241.60</td>\n",
       "      <td>231.00</td>\n",
       "      <td>240.20</td>\n",
       "      <td>80501583</td>\n",
       "      <td>0</td>\n",
       "    </tr>\n",
       "    <tr>\n",
       "      <th>2</th>\n",
       "      <td>2</td>\n",
       "      <td>2020-11-18</td>\n",
       "      <td>239.40</td>\n",
       "      <td>253.00</td>\n",
       "      <td>237.90</td>\n",
       "      <td>252.00</td>\n",
       "      <td>104514060</td>\n",
       "      <td>0</td>\n",
       "    </tr>\n",
       "    <tr>\n",
       "      <th>1</th>\n",
       "      <td>1</td>\n",
       "      <td>2020-11-19</td>\n",
       "      <td>248.00</td>\n",
       "      <td>251.80</td>\n",
       "      <td>239.00</td>\n",
       "      <td>239.75</td>\n",
       "      <td>82284278</td>\n",
       "      <td>0</td>\n",
       "    </tr>\n",
       "    <tr>\n",
       "      <th>0</th>\n",
       "      <td>0</td>\n",
       "      <td>2020-11-20</td>\n",
       "      <td>241.50</td>\n",
       "      <td>245.40</td>\n",
       "      <td>233.95</td>\n",
       "      <td>242.75</td>\n",
       "      <td>84411129</td>\n",
       "      <td>0</td>\n",
       "    </tr>\n",
       "  </tbody>\n",
       "</table>\n",
       "<p>3441 rows × 8 columns</p>\n",
       "</div>"
      ],
      "text/plain": [
       "      Unnamed: 0        Date    open    high     low   close     volume  \\\n",
       "3440        3440  2007-01-02  125.00  126.00  124.30  125.36    4081440   \n",
       "3439        3439  2007-01-03  125.00  126.99  123.71  126.49    6825540   \n",
       "3438        3438  2007-01-04  127.00  128.00  123.72  124.30    6544400   \n",
       "3437        3437  2007-01-05  124.10  125.78  123.31  124.41    6962270   \n",
       "3436        3436  2007-01-08  124.88  124.88  120.71  121.37    8747010   \n",
       "...          ...         ...     ...     ...     ...     ...        ...   \n",
       "4              4  2020-11-14  232.00  232.90  227.75  229.65    7753219   \n",
       "3              3  2020-11-17  231.85  241.60  231.00  240.20   80501583   \n",
       "2              2  2020-11-18  239.40  253.00  237.90  252.00  104514060   \n",
       "1              1  2020-11-19  248.00  251.80  239.00  239.75   82284278   \n",
       "0              0  2020-11-20  241.50  245.40  233.95  242.75   84411129   \n",
       "\n",
       "      unknown  \n",
       "3440        0  \n",
       "3439        0  \n",
       "3438        0  \n",
       "3437        0  \n",
       "3436        0  \n",
       "...       ...  \n",
       "4           0  \n",
       "3           0  \n",
       "2           0  \n",
       "1           0  \n",
       "0           0  \n",
       "\n",
       "[3441 rows x 8 columns]"
      ]
     },
     "execution_count": 79,
     "metadata": {},
     "output_type": "execute_result"
    }
   ],
   "source": [
    "df"
   ]
  },
  {
   "cell_type": "code",
   "execution_count": 80,
   "id": "06181031",
   "metadata": {},
   "outputs": [],
   "source": [
    "# convert date in string to Dateobject\n",
    "# df['Date']=df['Date'].apply(lambda x : x.split(\"T\")[0])\n",
    "df['Date']=df['Date'].apply(lambda x :datetime.strptime(x, '%Y-%m-%d').date())"
   ]
  },
  {
   "cell_type": "code",
   "execution_count": 81,
   "id": "a899ccdb",
   "metadata": {},
   "outputs": [],
   "source": [
    "df.index=df.pop(\"Date\")"
   ]
  },
  {
   "cell_type": "code",
   "execution_count": null,
   "id": "f20eaef0",
   "metadata": {},
   "outputs": [],
   "source": []
  },
  {
   "cell_type": "code",
   "execution_count": 82,
   "id": "e8f369f8",
   "metadata": {},
   "outputs": [],
   "source": [
    "# df.to_csv(\"HDFCBANK.csv\")\n",
    "# df.to_csv(\"axis.csv\")"
   ]
  },
  {
   "cell_type": "code",
   "execution_count": 83,
   "id": "0d89b32c",
   "metadata": {},
   "outputs": [
    {
     "data": {
      "text/plain": [
       "<Axes: xlabel='Date'>"
      ]
     },
     "execution_count": 83,
     "metadata": {},
     "output_type": "execute_result"
    },
    {
     "data": {
      "image/png": "[encoded data removed]",
      "text/plain": [
       "<Figure size 640x480 with 1 Axes>"
      ]
     },
     "metadata": {},
     "output_type": "display_data"
    }
   ],
   "source": [
    "df.plot.line(y=\"close\", use_index= True)"
   ]
  },
  {
   "cell_type": "code",
   "execution_count": 84,
   "id": "9f11ca8c",
   "metadata": {},
   "outputs": [],
   "source": [
    "df1=df['close']"
   ]
  },
  {
   "cell_type": "code",
   "execution_count": 85,
   "id": "bb93234e",
   "metadata": {},
   "outputs": [],
   "source": [
    "from sklearn.preprocessing import MinMaxScaler\n",
    "scaler=MinMaxScaler(feature_range=(0,1))\n",
    "df1=scaler.fit_transform(np.array(df1).reshape(-1,1))"
   ]
  },
  {
   "cell_type": "code",
   "execution_count": 86,
   "id": "fce2cf54",
   "metadata": {},
   "outputs": [
    {
     "data": {
      "text/plain": [
       "(array([[0.12666596],\n",
       "        [0.13066073],\n",
       "        [0.12291866],\n",
       "        ...,\n",
       "        [0.57436278],\n",
       "        [0.53105667],\n",
       "        [0.54166225]]),\n",
       " 3441)"
      ]
     },
     "execution_count": 86,
     "metadata": {},
     "output_type": "execute_result"
    }
   ],
   "source": [
    "df1,len(df1)"
   ]
  },
  {
   "cell_type": "code",
   "execution_count": 87,
   "id": "5b7df578",
   "metadata": {},
   "outputs": [],
   "source": [
    "#splitting the date to train and test\n",
    "train_size=int(len(df1)*0.7)\n",
    "valid_point=int(len(df1)*0.8)\n",
    "test_size=len(df1)-valid_point\n",
    "train_data,valid_data,test_data=df1[:train_size],df1[train_size:valid_point],df1[valid_point:]"
   ]
  },
  {
   "cell_type": "code",
   "execution_count": 88,
   "id": "5ed1eaf5",
   "metadata": {},
   "outputs": [
    {
     "data": {
      "text/plain": [
       "(2408, 344, 689)"
      ]
     },
     "execution_count": 88,
     "metadata": {},
     "output_type": "execute_result"
    }
   ],
   "source": [
    "train_size,valid_point-train_size,test_size"
   ]
  },
  {
   "cell_type": "code",
   "execution_count": 89,
   "id": "161f209c",
   "metadata": {},
   "outputs": [
    {
     "data": {
      "text/html": [
       "<div>\n",
       "<style scoped>\n",
       "    .dataframe tbody tr th:only-of-type {\n",
       "        vertical-align: middle;\n",
       "    }\n",
       "\n",
       "    .dataframe tbody tr th {\n",
       "        vertical-align: top;\n",
       "    }\n",
       "\n",
       "    .dataframe thead th {\n",
       "        text-align: right;\n",
       "    }\n",
       "</style>\n",
       "<table border=\"1\" class=\"dataframe\">\n",
       "  <thead>\n",
       "    <tr style=\"text-align: right;\">\n",
       "      <th></th>\n",
       "      <th>Unnamed: 0</th>\n",
       "      <th>open</th>\n",
       "      <th>high</th>\n",
       "      <th>low</th>\n",
       "      <th>close</th>\n",
       "      <th>volume</th>\n",
       "      <th>unknown</th>\n",
       "    </tr>\n",
       "    <tr>\n",
       "      <th>Date</th>\n",
       "      <th></th>\n",
       "      <th></th>\n",
       "      <th></th>\n",
       "      <th></th>\n",
       "      <th></th>\n",
       "      <th></th>\n",
       "      <th></th>\n",
       "    </tr>\n",
       "  </thead>\n",
       "  <tbody>\n",
       "    <tr>\n",
       "      <th>2007-01-02</th>\n",
       "      <td>3440</td>\n",
       "      <td>125.00</td>\n",
       "      <td>126.00</td>\n",
       "      <td>124.30</td>\n",
       "      <td>125.36</td>\n",
       "      <td>4081440</td>\n",
       "      <td>0</td>\n",
       "    </tr>\n",
       "    <tr>\n",
       "      <th>2007-01-03</th>\n",
       "      <td>3439</td>\n",
       "      <td>125.00</td>\n",
       "      <td>126.99</td>\n",
       "      <td>123.71</td>\n",
       "      <td>126.49</td>\n",
       "      <td>6825540</td>\n",
       "      <td>0</td>\n",
       "    </tr>\n",
       "    <tr>\n",
       "      <th>2007-01-04</th>\n",
       "      <td>3438</td>\n",
       "      <td>127.00</td>\n",
       "      <td>128.00</td>\n",
       "      <td>123.72</td>\n",
       "      <td>124.30</td>\n",
       "      <td>6544400</td>\n",
       "      <td>0</td>\n",
       "    </tr>\n",
       "    <tr>\n",
       "      <th>2007-01-05</th>\n",
       "      <td>3437</td>\n",
       "      <td>124.10</td>\n",
       "      <td>125.78</td>\n",
       "      <td>123.31</td>\n",
       "      <td>124.41</td>\n",
       "      <td>6962270</td>\n",
       "      <td>0</td>\n",
       "    </tr>\n",
       "    <tr>\n",
       "      <th>2007-01-08</th>\n",
       "      <td>3436</td>\n",
       "      <td>124.88</td>\n",
       "      <td>124.88</td>\n",
       "      <td>120.71</td>\n",
       "      <td>121.37</td>\n",
       "      <td>8747010</td>\n",
       "      <td>0</td>\n",
       "    </tr>\n",
       "    <tr>\n",
       "      <th>...</th>\n",
       "      <td>...</td>\n",
       "      <td>...</td>\n",
       "      <td>...</td>\n",
       "      <td>...</td>\n",
       "      <td>...</td>\n",
       "      <td>...</td>\n",
       "      <td>...</td>\n",
       "    </tr>\n",
       "    <tr>\n",
       "      <th>2020-11-14</th>\n",
       "      <td>4</td>\n",
       "      <td>232.00</td>\n",
       "      <td>232.90</td>\n",
       "      <td>227.75</td>\n",
       "      <td>229.65</td>\n",
       "      <td>7753219</td>\n",
       "      <td>0</td>\n",
       "    </tr>\n",
       "    <tr>\n",
       "      <th>2020-11-17</th>\n",
       "      <td>3</td>\n",
       "      <td>231.85</td>\n",
       "      <td>241.60</td>\n",
       "      <td>231.00</td>\n",
       "      <td>240.20</td>\n",
       "      <td>80501583</td>\n",
       "      <td>0</td>\n",
       "    </tr>\n",
       "    <tr>\n",
       "      <th>2020-11-18</th>\n",
       "      <td>2</td>\n",
       "      <td>239.40</td>\n",
       "      <td>253.00</td>\n",
       "      <td>237.90</td>\n",
       "      <td>252.00</td>\n",
       "      <td>104514060</td>\n",
       "      <td>0</td>\n",
       "    </tr>\n",
       "    <tr>\n",
       "      <th>2020-11-19</th>\n",
       "      <td>1</td>\n",
       "      <td>248.00</td>\n",
       "      <td>251.80</td>\n",
       "      <td>239.00</td>\n",
       "      <td>239.75</td>\n",
       "      <td>82284278</td>\n",
       "      <td>0</td>\n",
       "    </tr>\n",
       "    <tr>\n",
       "      <th>2020-11-20</th>\n",
       "      <td>0</td>\n",
       "      <td>241.50</td>\n",
       "      <td>245.40</td>\n",
       "      <td>233.95</td>\n",
       "      <td>242.75</td>\n",
       "      <td>84411129</td>\n",
       "      <td>0</td>\n",
       "    </tr>\n",
       "  </tbody>\n",
       "</table>\n",
       "<p>3441 rows × 7 columns</p>\n",
       "</div>"
      ],
      "text/plain": [
       "            Unnamed: 0    open    high     low   close     volume  unknown\n",
       "Date                                                                      \n",
       "2007-01-02        3440  125.00  126.00  124.30  125.36    4081440        0\n",
       "2007-01-03        3439  125.00  126.99  123.71  126.49    6825540        0\n",
       "2007-01-04        3438  127.00  128.00  123.72  124.30    6544400        0\n",
       "2007-01-05        3437  124.10  125.78  123.31  124.41    6962270        0\n",
       "2007-01-08        3436  124.88  124.88  120.71  121.37    8747010        0\n",
       "...                ...     ...     ...     ...     ...        ...      ...\n",
       "2020-11-14           4  232.00  232.90  227.75  229.65    7753219        0\n",
       "2020-11-17           3  231.85  241.60  231.00  240.20   80501583        0\n",
       "2020-11-18           2  239.40  253.00  237.90  252.00  104514060        0\n",
       "2020-11-19           1  248.00  251.80  239.00  239.75   82284278        0\n",
       "2020-11-20           0  241.50  245.40  233.95  242.75   84411129        0\n",
       "\n",
       "[3441 rows x 7 columns]"
      ]
     },
     "execution_count": 89,
     "metadata": {},
     "output_type": "execute_result"
    }
   ],
   "source": [
    "df"
   ]
  },
  {
   "cell_type": "code",
   "execution_count": 91,
   "id": "a240d95b",
   "metadata": {},
   "outputs": [
    {
     "data": {
      "image/png": "[encoded data removed]",
      "text/plain": [
       "<Figure size 640x480 with 1 Axes>"
      ]
     },
     "metadata": {},
     "output_type": "display_data"
    }
   ],
   "source": [
    "# plots\n",
    "df[:train_size]['close'].plot.line(use_index= True)\n",
    "df[train_size:valid_point]['close'].plot.line(use_index= True)\n",
    "df[valid_point:]['close'].plot.line(use_index= True)\n",
    "plt.legend([\"Train data\",\"Validation data\",\"Test data\"])\n",
    "plt.title(\"SBI\")\n",
    "# plt.savefig('sbi_data.jpg')"
   ]
  },
  {
   "cell_type": "code",
   "execution_count": 27,
   "id": "7a097f5e",
   "metadata": {},
   "outputs": [],
   "source": [
    "def dataset(data,window_size=1):\n",
    "    dataX, dataY = [], []\n",
    "    for i in range(len(data)-window_size-1):\n",
    "        a = data[i:(i+window_size), 0] \n",
    "        dataX.append(a)\n",
    "        dataY.append(data[i + window_size, 0])\n",
    "    return np.array(dataX), np.array(dataY)"
   ]
  },
  {
   "cell_type": "code",
   "execution_count": 28,
   "id": "c80fab5a",
   "metadata": {},
   "outputs": [],
   "source": [
    "window_size = 30\n",
    "x_train, y_train = dataset(train_data, window_size)\n",
    "x_valid,y_valid=dataset(valid_data, window_size)\n",
    "x_test, y_test = dataset(test_data,window_size)"
   ]
  },
  {
   "cell_type": "code",
   "execution_count": 29,
   "id": "54cdbd90",
   "metadata": {},
   "outputs": [
    {
     "data": {
      "text/plain": [
       "((2377, 30), (2377,))"
      ]
     },
     "execution_count": 29,
     "metadata": {},
     "output_type": "execute_result"
    }
   ],
   "source": [
    "x_train.shape,y_train.shape"
   ]
  },
  {
   "cell_type": "code",
   "execution_count": 30,
   "id": "bb637f74",
   "metadata": {},
   "outputs": [
    {
     "data": {
      "text/plain": [
       "((313, 30), (313,))"
      ]
     },
     "execution_count": 30,
     "metadata": {},
     "output_type": "execute_result"
    }
   ],
   "source": [
    "x_valid.shape,y_valid.shape"
   ]
  },
  {
   "cell_type": "code",
   "execution_count": 31,
   "id": "2f6074c3",
   "metadata": {},
   "outputs": [
    {
     "data": {
      "text/plain": [
       "((658, 30), (658,))"
      ]
     },
     "execution_count": 31,
     "metadata": {},
     "output_type": "execute_result"
    }
   ],
   "source": [
    "x_test.shape,y_test.shape"
   ]
  },
  {
   "cell_type": "code",
   "execution_count": 32,
   "id": "cc3dd16d",
   "metadata": {},
   "outputs": [],
   "source": [
    "# Reshape data to be [samples, time steps, features] which is required for LSTM\n",
    "x_train =x_train.reshape(x_train.shape[0],x_train.shape[1] , 1)\n",
    "x_valid =x_valid.reshape(x_valid.shape[0],x_valid.shape[1] , 1)\n",
    "x_test = x_test.reshape(x_test.shape[0],x_test.shape[1] , 1)"
   ]
  },
  {
   "cell_type": "code",
   "execution_count": 33,
   "id": "69dde843",
   "metadata": {},
   "outputs": [
    {
     "name": "stdout",
     "output_type": "stream",
     "text": [
      "WARNING:tensorflow:From C:\\Users\\ksrma\\anaconda3\\envs\\ml\\lib\\site-packages\\keras\\src\\losses.py:2976: The name tf.losses.sparse_softmax_cross_entropy is deprecated. Please use tf.compat.v1.losses.sparse_softmax_cross_entropy instead.\n",
      "\n"
     ]
    }
   ],
   "source": [
    "### Create the Stacked LSTM model\n",
    "from tensorflow.keras.models import Sequential\n",
    "from tensorflow.keras.layers import Dense\n",
    "from tensorflow.keras.layers import LSTM"
   ]
  },
  {
   "cell_type": "code",
   "execution_count": 34,
   "id": "133684af",
   "metadata": {},
   "outputs": [
    {
     "name": "stdout",
     "output_type": "stream",
     "text": [
      "WARNING:tensorflow:From C:\\Users\\ksrma\\anaconda3\\envs\\ml\\lib\\site-packages\\keras\\src\\backend.py:873: The name tf.get_default_graph is deprecated. Please use tf.compat.v1.get_default_graph instead.\n",
      "\n",
      "WARNING:tensorflow:From C:\\Users\\ksrma\\anaconda3\\envs\\ml\\lib\\site-packages\\keras\\src\\optimizers\\__init__.py:309: The name tf.train.Optimizer is deprecated. Please use tf.compat.v1.train.Optimizer instead.\n",
      "\n"
     ]
    }
   ],
   "source": [
    "model=Sequential()\n",
    "model.add(LSTM(50,return_sequences=True,input_shape=(30,1)))\n",
    "model.add(LSTM(50,return_sequences=True))\n",
    "model.add(LSTM(50))\n",
    "model.add(Dense(1))\n",
    "model.compile(loss='mean_squared_error',optimizer='adam')"
   ]
  },
  {
   "cell_type": "code",
   "execution_count": null,
   "id": "a72f5665",
   "metadata": {},
   "outputs": [],
   "source": []
  },
  {
   "cell_type": "code",
   "execution_count": null,
   "id": "6fcad219",
   "metadata": {},
   "outputs": [],
   "source": []
  },
  {
   "cell_type": "code",
   "execution_count": 35,
   "id": "8bedf811",
   "metadata": {},
   "outputs": [
    {
     "name": "stdout",
     "output_type": "stream",
     "text": [
      "Model: \"sequential\"\n",
      "_________________________________________________________________\n",
      " Layer (type)                Output Shape              Param #   \n",
      "=================================================================\n",
      " lstm (LSTM)                 (None, 30, 50)            10400     \n",
      "                                                                 \n",
      " lstm_1 (LSTM)               (None, 30, 50)            20200     \n",
      "                                                                 \n",
      " lstm_2 (LSTM)               (None, 50)                20200     \n",
      "                                                                 \n",
      " dense (Dense)               (None, 1)                 51        \n",
      "                                                                 \n",
      "=================================================================\n",
      "Total params: 50851 (198.64 KB)\n",
      "Trainable params: 50851 (198.64 KB)\n",
      "Non-trainable params: 0 (0.00 Byte)\n",
      "_________________________________________________________________\n"
     ]
    }
   ],
   "source": [
    "model.summary()"
   ]
  },
  {
   "cell_type": "code",
   "execution_count": 36,
   "id": "50ef1856",
   "metadata": {},
   "outputs": [
    {
     "name": "stdout",
     "output_type": "stream",
     "text": [
      "Epoch 1/100\n",
      "WARNING:tensorflow:From C:\\Users\\ksrma\\anaconda3\\envs\\ml\\lib\\site-packages\\keras\\src\\utils\\tf_utils.py:492: The name tf.ragged.RaggedTensorValue is deprecated. Please use tf.compat.v1.ragged.RaggedTensorValue instead.\n",
      "\n",
      "38/38 [==============================] - 8s 75ms/step - loss: 0.0559 - val_loss: 0.0074\n",
      "Epoch 2/100\n",
      "38/38 [==============================] - 2s 44ms/step - loss: 0.0031 - val_loss: 0.0032\n",
      "Epoch 3/100\n",
      "38/38 [==============================] - 2s 44ms/step - loss: 0.0024 - val_loss: 0.0030\n",
      "Epoch 4/100\n",
      "38/38 [==============================] - 2s 43ms/step - loss: 0.0023 - val_loss: 0.0028\n",
      "Epoch 5/100\n",
      "38/38 [==============================] - 2s 43ms/step - loss: 0.0022 - val_loss: 0.0027\n",
      "Epoch 6/100\n",
      "38/38 [==============================] - 2s 43ms/step - loss: 0.0021 - val_loss: 0.0025\n",
      "Epoch 7/100\n",
      "38/38 [==============================] - 2s 42ms/step - loss: 0.0019 - val_loss: 0.0024\n",
      "Epoch 8/100\n",
      "38/38 [==============================] - 2s 43ms/step - loss: 0.0018 - val_loss: 0.0022\n",
      "Epoch 9/100\n",
      "38/38 [==============================] - 2s 42ms/step - loss: 0.0018 - val_loss: 0.0034\n",
      "Epoch 10/100\n",
      "38/38 [==============================] - 2s 44ms/step - loss: 0.0016 - val_loss: 0.0041\n",
      "Epoch 11/100\n",
      "38/38 [==============================] - 2s 43ms/step - loss: 0.0017 - val_loss: 0.0020\n",
      "Epoch 12/100\n",
      "38/38 [==============================] - 2s 42ms/step - loss: 0.0015 - val_loss: 0.0021\n",
      "Epoch 13/100\n",
      "38/38 [==============================] - 2s 44ms/step - loss: 0.0014 - val_loss: 0.0019\n",
      "Epoch 14/100\n",
      "38/38 [==============================] - 2s 44ms/step - loss: 0.0013 - val_loss: 0.0019\n",
      "Epoch 15/100\n",
      "38/38 [==============================] - 2s 44ms/step - loss: 0.0014 - val_loss: 0.0019\n",
      "Epoch 16/100\n",
      "38/38 [==============================] - 2s 43ms/step - loss: 0.0015 - val_loss: 0.0018\n",
      "Epoch 17/100\n",
      "38/38 [==============================] - 2s 43ms/step - loss: 0.0013 - val_loss: 0.0024\n",
      "Epoch 18/100\n",
      "38/38 [==============================] - 2s 43ms/step - loss: 0.0013 - val_loss: 0.0018\n",
      "Epoch 19/100\n",
      "38/38 [==============================] - 2s 43ms/step - loss: 0.0012 - val_loss: 0.0024\n",
      "Epoch 20/100\n",
      "38/38 [==============================] - 2s 43ms/step - loss: 0.0013 - val_loss: 0.0016\n",
      "Epoch 21/100\n",
      "38/38 [==============================] - 2s 42ms/step - loss: 0.0011 - val_loss: 0.0016\n",
      "Epoch 22/100\n",
      "38/38 [==============================] - 2s 42ms/step - loss: 0.0012 - val_loss: 0.0021\n",
      "Epoch 23/100\n",
      "38/38 [==============================] - 2s 44ms/step - loss: 0.0012 - val_loss: 0.0015\n",
      "Epoch 24/100\n",
      "38/38 [==============================] - 2s 44ms/step - loss: 0.0011 - val_loss: 0.0016\n",
      "Epoch 25/100\n",
      "38/38 [==============================] - 2s 42ms/step - loss: 0.0011 - val_loss: 0.0025\n",
      "Epoch 26/100\n",
      "38/38 [==============================] - 2s 44ms/step - loss: 0.0010 - val_loss: 0.0016\n",
      "Epoch 27/100\n",
      "38/38 [==============================] - 2s 44ms/step - loss: 9.9143e-04 - val_loss: 0.0014\n",
      "Epoch 28/100\n",
      "38/38 [==============================] - 2s 44ms/step - loss: 9.2385e-04 - val_loss: 0.0013\n",
      "Epoch 29/100\n",
      "38/38 [==============================] - 2s 43ms/step - loss: 8.6319e-04 - val_loss: 0.0013\n",
      "Epoch 30/100\n",
      "38/38 [==============================] - 2s 43ms/step - loss: 8.4634e-04 - val_loss: 0.0015\n",
      "Epoch 31/100\n",
      "38/38 [==============================] - 2s 43ms/step - loss: 8.6962e-04 - val_loss: 0.0011\n",
      "Epoch 32/100\n",
      "38/38 [==============================] - 2s 44ms/step - loss: 7.3743e-04 - val_loss: 0.0011\n",
      "Epoch 33/100\n",
      "38/38 [==============================] - 2s 44ms/step - loss: 7.1254e-04 - val_loss: 0.0010\n",
      "Epoch 34/100\n",
      "38/38 [==============================] - 2s 43ms/step - loss: 7.8655e-04 - val_loss: 0.0011\n",
      "Epoch 35/100\n",
      "38/38 [==============================] - 2s 43ms/step - loss: 6.7884e-04 - val_loss: 0.0016\n",
      "Epoch 36/100\n",
      "38/38 [==============================] - 2s 43ms/step - loss: 6.9449e-04 - val_loss: 0.0010\n",
      "Epoch 37/100\n",
      "38/38 [==============================] - 2s 42ms/step - loss: 6.1616e-04 - val_loss: 0.0014\n",
      "Epoch 38/100\n",
      "38/38 [==============================] - 2s 43ms/step - loss: 6.1911e-04 - val_loss: 8.7941e-04\n",
      "Epoch 39/100\n",
      "38/38 [==============================] - 2s 44ms/step - loss: 6.2174e-04 - val_loss: 0.0013\n",
      "Epoch 40/100\n",
      "38/38 [==============================] - 2s 43ms/step - loss: 5.7852e-04 - val_loss: 9.6321e-04\n",
      "Epoch 41/100\n",
      "38/38 [==============================] - 2s 44ms/step - loss: 5.2079e-04 - val_loss: 7.6229e-04\n",
      "Epoch 42/100\n",
      "38/38 [==============================] - 2s 43ms/step - loss: 5.5160e-04 - val_loss: 0.0011\n",
      "Epoch 43/100\n",
      "38/38 [==============================] - 2s 42ms/step - loss: 5.6332e-04 - val_loss: 0.0013\n",
      "Epoch 44/100\n",
      "38/38 [==============================] - 2s 42ms/step - loss: 5.6569e-04 - val_loss: 0.0010\n",
      "Epoch 45/100\n",
      "38/38 [==============================] - 2s 42ms/step - loss: 4.7389e-04 - val_loss: 7.8181e-04\n",
      "Epoch 46/100\n",
      "38/38 [==============================] - 2s 43ms/step - loss: 4.5335e-04 - val_loss: 0.0010\n",
      "Epoch 47/100\n",
      "38/38 [==============================] - 2s 42ms/step - loss: 4.6436e-04 - val_loss: 7.4143e-04\n",
      "Epoch 48/100\n",
      "38/38 [==============================] - 2s 41ms/step - loss: 4.5464e-04 - val_loss: 9.8959e-04\n",
      "Epoch 49/100\n",
      "38/38 [==============================] - 2s 42ms/step - loss: 5.4120e-04 - val_loss: 6.5573e-04\n",
      "Epoch 50/100\n",
      "38/38 [==============================] - 2s 43ms/step - loss: 4.1506e-04 - val_loss: 7.2550e-04\n",
      "Epoch 51/100\n",
      "38/38 [==============================] - 2s 42ms/step - loss: 4.3499e-04 - val_loss: 9.6014e-04\n",
      "Epoch 52/100\n",
      "38/38 [==============================] - 2s 41ms/step - loss: 4.2004e-04 - val_loss: 6.6074e-04\n",
      "Epoch 53/100\n",
      "38/38 [==============================] - 2s 42ms/step - loss: 4.5155e-04 - val_loss: 7.9490e-04\n",
      "Epoch 54/100\n",
      "38/38 [==============================] - 2s 42ms/step - loss: 4.0820e-04 - val_loss: 6.4914e-04\n",
      "Epoch 55/100\n",
      "38/38 [==============================] - 2s 42ms/step - loss: 4.1597e-04 - val_loss: 5.8714e-04\n",
      "Epoch 56/100\n",
      "38/38 [==============================] - 2s 43ms/step - loss: 3.7579e-04 - val_loss: 5.9835e-04\n",
      "Epoch 57/100\n",
      "38/38 [==============================] - 2s 43ms/step - loss: 3.7397e-04 - val_loss: 6.4038e-04\n",
      "Epoch 58/100\n",
      "38/38 [==============================] - 2s 42ms/step - loss: 4.4125e-04 - val_loss: 6.0355e-04\n",
      "Epoch 59/100\n",
      "38/38 [==============================] - 2s 43ms/step - loss: 4.2371e-04 - val_loss: 5.6569e-04\n",
      "Epoch 60/100\n",
      "38/38 [==============================] - 2s 43ms/step - loss: 3.6926e-04 - val_loss: 6.2296e-04\n",
      "Epoch 61/100\n",
      "38/38 [==============================] - 2s 43ms/step - loss: 3.8803e-04 - val_loss: 7.5286e-04\n",
      "Epoch 62/100\n",
      "38/38 [==============================] - 2s 43ms/step - loss: 3.5791e-04 - val_loss: 8.6373e-04\n",
      "Epoch 63/100\n",
      "38/38 [==============================] - 2s 43ms/step - loss: 3.6287e-04 - val_loss: 5.5683e-04\n",
      "Epoch 64/100\n",
      "38/38 [==============================] - 2s 43ms/step - loss: 3.8088e-04 - val_loss: 5.9021e-04\n",
      "Epoch 65/100\n",
      "38/38 [==============================] - 2s 42ms/step - loss: 3.6852e-04 - val_loss: 5.9262e-04\n",
      "Epoch 66/100\n",
      "38/38 [==============================] - 2s 42ms/step - loss: 3.4619e-04 - val_loss: 5.7669e-04\n",
      "Epoch 67/100\n",
      "38/38 [==============================] - 2s 42ms/step - loss: 3.7296e-04 - val_loss: 5.5050e-04\n",
      "Epoch 68/100\n",
      "38/38 [==============================] - 2s 42ms/step - loss: 3.9673e-04 - val_loss: 5.5252e-04\n",
      "Epoch 69/100\n",
      "38/38 [==============================] - 2s 42ms/step - loss: 3.8681e-04 - val_loss: 5.5913e-04\n",
      "Epoch 70/100\n",
      "38/38 [==============================] - 2s 42ms/step - loss: 4.0749e-04 - val_loss: 5.5897e-04\n",
      "Epoch 71/100\n",
      "38/38 [==============================] - 2s 42ms/step - loss: 3.7766e-04 - val_loss: 5.4763e-04\n",
      "Epoch 72/100\n",
      "38/38 [==============================] - 2s 43ms/step - loss: 3.2681e-04 - val_loss: 9.4898e-04\n",
      "Epoch 73/100\n",
      "38/38 [==============================] - 2s 42ms/step - loss: 3.9081e-04 - val_loss: 7.4128e-04\n",
      "Epoch 74/100\n",
      "38/38 [==============================] - 2s 42ms/step - loss: 3.8968e-04 - val_loss: 5.6891e-04\n",
      "Epoch 75/100\n",
      "38/38 [==============================] - 2s 42ms/step - loss: 3.2046e-04 - val_loss: 6.5302e-04\n",
      "Epoch 76/100\n"
     ]
    },
    {
     "name": "stdout",
     "output_type": "stream",
     "text": [
      "38/38 [==============================] - 2s 44ms/step - loss: 3.7141e-04 - val_loss: 5.6390e-04\n",
      "Epoch 77/100\n",
      "38/38 [==============================] - 2s 42ms/step - loss: 3.6222e-04 - val_loss: 8.3611e-04\n",
      "Epoch 78/100\n",
      "38/38 [==============================] - 2s 43ms/step - loss: 3.9679e-04 - val_loss: 5.6147e-04\n",
      "Epoch 79/100\n",
      "38/38 [==============================] - 2s 40ms/step - loss: 3.6716e-04 - val_loss: 6.0456e-04\n",
      "Epoch 80/100\n",
      "38/38 [==============================] - 2s 42ms/step - loss: 3.3225e-04 - val_loss: 7.0907e-04\n",
      "Epoch 81/100\n",
      "38/38 [==============================] - 2s 42ms/step - loss: 3.5163e-04 - val_loss: 5.4815e-04\n",
      "Epoch 82/100\n",
      "38/38 [==============================] - 2s 44ms/step - loss: 3.1516e-04 - val_loss: 5.6172e-04\n",
      "Epoch 83/100\n",
      "38/38 [==============================] - 2s 42ms/step - loss: 3.5443e-04 - val_loss: 6.6329e-04\n",
      "Epoch 84/100\n",
      "38/38 [==============================] - 2s 43ms/step - loss: 3.4646e-04 - val_loss: 5.5148e-04\n",
      "Epoch 85/100\n",
      "38/38 [==============================] - 2s 42ms/step - loss: 3.2123e-04 - val_loss: 5.9709e-04\n",
      "Epoch 86/100\n",
      "38/38 [==============================] - 2s 42ms/step - loss: 3.2113e-04 - val_loss: 0.0014\n",
      "Epoch 87/100\n",
      "38/38 [==============================] - 2s 43ms/step - loss: 4.4581e-04 - val_loss: 5.5743e-04\n",
      "Epoch 88/100\n",
      "38/38 [==============================] - 2s 43ms/step - loss: 3.5816e-04 - val_loss: 5.5293e-04\n",
      "Epoch 89/100\n",
      "38/38 [==============================] - 2s 42ms/step - loss: 3.3919e-04 - val_loss: 7.1465e-04\n",
      "Epoch 90/100\n",
      "38/38 [==============================] - 2s 43ms/step - loss: 3.6538e-04 - val_loss: 6.3579e-04\n",
      "Epoch 91/100\n",
      "38/38 [==============================] - 2s 43ms/step - loss: 3.2054e-04 - val_loss: 6.2402e-04\n",
      "Epoch 92/100\n",
      "38/38 [==============================] - 2s 42ms/step - loss: 3.5982e-04 - val_loss: 5.6938e-04\n",
      "Epoch 93/100\n",
      "38/38 [==============================] - 2s 42ms/step - loss: 3.4819e-04 - val_loss: 7.4090e-04\n",
      "Epoch 94/100\n",
      "38/38 [==============================] - 2s 43ms/step - loss: 3.3352e-04 - val_loss: 5.5572e-04\n",
      "Epoch 95/100\n",
      "38/38 [==============================] - 2s 42ms/step - loss: 3.4118e-04 - val_loss: 5.7593e-04\n",
      "Epoch 96/100\n",
      "38/38 [==============================] - 2s 42ms/step - loss: 3.0969e-04 - val_loss: 6.1603e-04\n",
      "Epoch 97/100\n",
      "38/38 [==============================] - 2s 42ms/step - loss: 3.3611e-04 - val_loss: 5.5007e-04\n",
      "Epoch 98/100\n",
      "38/38 [==============================] - 2s 42ms/step - loss: 3.0653e-04 - val_loss: 5.8927e-04\n",
      "Epoch 99/100\n",
      "38/38 [==============================] - 2s 42ms/step - loss: 3.2431e-04 - val_loss: 5.5317e-04\n",
      "Epoch 100/100\n",
      "38/38 [==============================] - 2s 43ms/step - loss: 3.0410e-04 - val_loss: 5.5146e-04\n"
     ]
    },
    {
     "data": {
      "text/plain": [
       "<keras.src.callbacks.History at 0x1f2882d1e80>"
      ]
     },
     "execution_count": 36,
     "metadata": {},
     "output_type": "execute_result"
    }
   ],
   "source": [
    "model.fit(x_train,y_train,validation_data=(x_valid,y_valid),epochs=100,batch_size=64,verbose=1)"
   ]
  },
  {
   "cell_type": "code",
   "execution_count": 37,
   "id": "ddc42df8",
   "metadata": {},
   "outputs": [],
   "source": [
    "import tensorflow as tf"
   ]
  },
  {
   "cell_type": "code",
   "execution_count": 47,
   "id": "d8313982",
   "metadata": {},
   "outputs": [
    {
     "name": "stdout",
     "output_type": "stream",
     "text": [
      "75/75 [==============================] - 1s 11ms/step\n",
      "10/10 [==============================] - 0s 11ms/step\n",
      "21/21 [==============================] - 0s 11ms/step\n"
     ]
    }
   ],
   "source": [
    "train_predict=model.predict(x_train)\n",
    "valid_predict=model.predict(x_valid)\n",
    "test_predict=model.predict(x_test)"
   ]
  },
  {
   "cell_type": "code",
   "execution_count": 48,
   "id": "6f3a4dcc",
   "metadata": {},
   "outputs": [],
   "source": [
    "##Transformback to original form\n",
    "train_predict=scaler.inverse_transform(train_predict)\n",
    "valid_predict=scaler.inverse_transform(valid_predict)\n",
    "test_predict=scaler.inverse_transform(test_predict)\n",
    "\n",
    "y_train=scaler.inverse_transform(y_train.reshape(len(y_train),1))\n",
    "y_valid=scaler.inverse_transform(y_valid.reshape(len(y_valid),1))\n",
    "y_test=scaler.inverse_transform(y_test.reshape(len(y_test),1))"
   ]
  },
  {
   "cell_type": "code",
   "execution_count": 551,
   "id": "b833a324",
   "metadata": {},
   "outputs": [],
   "source": [
    "# with open(\"sbi_model\",'rb') as file:\n",
    "#     sbi_model=pickle.load(file)\n",
    "# test_predict=sbi_model.predict(x_test)"
   ]
  },
  {
   "cell_type": "markdown",
   "id": "a1021e10",
   "metadata": {},
   "source": [
    "# Predict any date"
   ]
  },
  {
   "cell_type": "code",
   "execution_count": null,
   "id": "c87f8e36",
   "metadata": {},
   "outputs": [],
   "source": [
    "temp=df[60:90]['close'].tolist()"
   ]
  },
  {
   "cell_type": "code",
   "execution_count": 73,
   "id": "5fd6de39",
   "metadata": {},
   "outputs": [
    {
     "name": "stdout",
     "output_type": "stream",
     "text": [
      "1/1 [==============================] - 0s 27ms/step\n"
     ]
    }
   ],
   "source": [
    "temp=scaler.fit_transform(np.array(temp).reshape(-1,1))\n",
    "temp=temp.reshape(temp.shape[1],30,1)\n",
    "pre=model.predict(temp)\n",
    "pre=scaler.inverse_transform(pre)"
   ]
  },
  {
   "cell_type": "code",
   "execution_count": 136,
   "id": "4472168d",
   "metadata": {},
   "outputs": [
    {
     "data": {
      "text/plain": [
       "array([[101.68704]], dtype=float32)"
      ]
     },
     "execution_count": 136,
     "metadata": {},
     "output_type": "execute_result"
    }
   ],
   "source": [
    "pre"
   ]
  },
  {
   "cell_type": "code",
   "execution_count": null,
   "id": "7e38dfc9",
   "metadata": {},
   "outputs": [],
   "source": []
  },
  {
   "cell_type": "code",
   "execution_count": 57,
   "id": "8e54e20e",
   "metadata": {},
   "outputs": [],
   "source": [
    "predict=np.zeros(train_size-len(train_predict))\n",
    "predict=np.append(predict,train_predict)\n",
    "predict=np.append(predict,np.zeros(valid_point-train_size-len(valid_predict)))\n",
    "predict=np.append(predict,valid_predict)\n",
    "predict=np.append(predict,np.zeros(len(df)-valid_point-len(test_predict)))\n",
    "predict=np.append(predict,test_predict)\n"
   ]
  },
  {
   "cell_type": "code",
   "execution_count": 60,
   "id": "8bf62e3c",
   "metadata": {},
   "outputs": [],
   "source": [
    "df['predicted']=predict"
   ]
  },
  {
   "cell_type": "code",
   "execution_count": 62,
   "id": "f2932f6a",
   "metadata": {},
   "outputs": [
    {
     "data": {
      "text/html": [
       "<div>\n",
       "<style scoped>\n",
       "    .dataframe tbody tr th:only-of-type {\n",
       "        vertical-align: middle;\n",
       "    }\n",
       "\n",
       "    .dataframe tbody tr th {\n",
       "        vertical-align: top;\n",
       "    }\n",
       "\n",
       "    .dataframe thead th {\n",
       "        text-align: right;\n",
       "    }\n",
       "</style>\n",
       "<table border=\"1\" class=\"dataframe\">\n",
       "  <thead>\n",
       "    <tr style=\"text-align: right;\">\n",
       "      <th></th>\n",
       "      <th>Unnamed: 0</th>\n",
       "      <th>open</th>\n",
       "      <th>high</th>\n",
       "      <th>low</th>\n",
       "      <th>close</th>\n",
       "      <th>volume</th>\n",
       "      <th>unknown</th>\n",
       "      <th>predicted</th>\n",
       "    </tr>\n",
       "    <tr>\n",
       "      <th>Date</th>\n",
       "      <th></th>\n",
       "      <th></th>\n",
       "      <th></th>\n",
       "      <th></th>\n",
       "      <th></th>\n",
       "      <th></th>\n",
       "      <th></th>\n",
       "      <th></th>\n",
       "    </tr>\n",
       "  </thead>\n",
       "  <tbody>\n",
       "    <tr>\n",
       "      <th>2007-02-15</th>\n",
       "      <td>3410</td>\n",
       "      <td>46.20</td>\n",
       "      <td>47.90</td>\n",
       "      <td>45.92</td>\n",
       "      <td>46.42</td>\n",
       "      <td>3999575</td>\n",
       "      <td>0</td>\n",
       "      <td>0.000000</td>\n",
       "    </tr>\n",
       "    <tr>\n",
       "      <th>2007-02-19</th>\n",
       "      <td>3409</td>\n",
       "      <td>48.98</td>\n",
       "      <td>48.98</td>\n",
       "      <td>43.00</td>\n",
       "      <td>45.38</td>\n",
       "      <td>2316380</td>\n",
       "      <td>0</td>\n",
       "      <td>46.530704</td>\n",
       "    </tr>\n",
       "    <tr>\n",
       "      <th>2007-02-20</th>\n",
       "      <td>3408</td>\n",
       "      <td>45.40</td>\n",
       "      <td>45.58</td>\n",
       "      <td>44.60</td>\n",
       "      <td>45.21</td>\n",
       "      <td>1668710</td>\n",
       "      <td>0</td>\n",
       "      <td>46.421761</td>\n",
       "    </tr>\n",
       "    <tr>\n",
       "      <th>2007-02-21</th>\n",
       "      <td>3407</td>\n",
       "      <td>45.26</td>\n",
       "      <td>45.54</td>\n",
       "      <td>44.80</td>\n",
       "      <td>45.12</td>\n",
       "      <td>2341255</td>\n",
       "      <td>0</td>\n",
       "      <td>46.128529</td>\n",
       "    </tr>\n",
       "    <tr>\n",
       "      <th>2007-02-22</th>\n",
       "      <td>3406</td>\n",
       "      <td>44.44</td>\n",
       "      <td>45.75</td>\n",
       "      <td>42.80</td>\n",
       "      <td>43.27</td>\n",
       "      <td>5139210</td>\n",
       "      <td>0</td>\n",
       "      <td>45.803856</td>\n",
       "    </tr>\n",
       "    <tr>\n",
       "      <th>...</th>\n",
       "      <td>...</td>\n",
       "      <td>...</td>\n",
       "      <td>...</td>\n",
       "      <td>...</td>\n",
       "      <td>...</td>\n",
       "      <td>...</td>\n",
       "      <td>...</td>\n",
       "      <td>...</td>\n",
       "    </tr>\n",
       "    <tr>\n",
       "      <th>2020-11-14</th>\n",
       "      <td>4</td>\n",
       "      <td>47.15</td>\n",
       "      <td>47.20</td>\n",
       "      <td>46.40</td>\n",
       "      <td>46.65</td>\n",
       "      <td>2862425</td>\n",
       "      <td>0</td>\n",
       "      <td>46.708759</td>\n",
       "    </tr>\n",
       "    <tr>\n",
       "      <th>2020-11-17</th>\n",
       "      <td>3</td>\n",
       "      <td>46.70</td>\n",
       "      <td>47.90</td>\n",
       "      <td>46.70</td>\n",
       "      <td>47.55</td>\n",
       "      <td>21494471</td>\n",
       "      <td>0</td>\n",
       "      <td>46.377712</td>\n",
       "    </tr>\n",
       "    <tr>\n",
       "      <th>2020-11-18</th>\n",
       "      <td>2</td>\n",
       "      <td>47.15</td>\n",
       "      <td>49.90</td>\n",
       "      <td>47.00</td>\n",
       "      <td>49.60</td>\n",
       "      <td>52946624</td>\n",
       "      <td>0</td>\n",
       "      <td>46.446400</td>\n",
       "    </tr>\n",
       "    <tr>\n",
       "      <th>2020-11-19</th>\n",
       "      <td>1</td>\n",
       "      <td>49.35</td>\n",
       "      <td>49.35</td>\n",
       "      <td>47.65</td>\n",
       "      <td>47.95</td>\n",
       "      <td>27880377</td>\n",
       "      <td>0</td>\n",
       "      <td>47.014366</td>\n",
       "    </tr>\n",
       "    <tr>\n",
       "      <th>2020-11-20</th>\n",
       "      <td>0</td>\n",
       "      <td>47.95</td>\n",
       "      <td>48.30</td>\n",
       "      <td>47.20</td>\n",
       "      <td>47.55</td>\n",
       "      <td>17592043</td>\n",
       "      <td>0</td>\n",
       "      <td>48.399658</td>\n",
       "    </tr>\n",
       "  </tbody>\n",
       "</table>\n",
       "<p>3411 rows × 8 columns</p>\n",
       "</div>"
      ],
      "text/plain": [
       "            Unnamed: 0   open   high    low  close    volume  unknown  \\\n",
       "Date                                                                    \n",
       "2007-02-15        3410  46.20  47.90  45.92  46.42   3999575        0   \n",
       "2007-02-19        3409  48.98  48.98  43.00  45.38   2316380        0   \n",
       "2007-02-20        3408  45.40  45.58  44.60  45.21   1668710        0   \n",
       "2007-02-21        3407  45.26  45.54  44.80  45.12   2341255        0   \n",
       "2007-02-22        3406  44.44  45.75  42.80  43.27   5139210        0   \n",
       "...                ...    ...    ...    ...    ...       ...      ...   \n",
       "2020-11-14           4  47.15  47.20  46.40  46.65   2862425        0   \n",
       "2020-11-17           3  46.70  47.90  46.70  47.55  21494471        0   \n",
       "2020-11-18           2  47.15  49.90  47.00  49.60  52946624        0   \n",
       "2020-11-19           1  49.35  49.35  47.65  47.95  27880377        0   \n",
       "2020-11-20           0  47.95  48.30  47.20  47.55  17592043        0   \n",
       "\n",
       "            predicted  \n",
       "Date                   \n",
       "2007-02-15   0.000000  \n",
       "2007-02-19  46.530704  \n",
       "2007-02-20  46.421761  \n",
       "2007-02-21  46.128529  \n",
       "2007-02-22  45.803856  \n",
       "...               ...  \n",
       "2020-11-14  46.708759  \n",
       "2020-11-17  46.377712  \n",
       "2020-11-18  46.446400  \n",
       "2020-11-19  47.014366  \n",
       "2020-11-20  48.399658  \n",
       "\n",
       "[3411 rows x 8 columns]"
      ]
     },
     "execution_count": 62,
     "metadata": {},
     "output_type": "execute_result"
    }
   ],
   "source": [
    "df[30:]"
   ]
  },
  {
   "cell_type": "code",
   "execution_count": 555,
   "id": "4e207ae8",
   "metadata": {},
   "outputs": [
    {
     "data": {
      "image/png": "[encoded data removed]",
      "text/plain": [
       "<Figure size 640x480 with 1 Axes>"
      ]
     },
     "metadata": {},
     "output_type": "display_data"
    }
   ],
   "source": [
    "df['close'].plot.line(use_index= True)\n",
    "# df[:train_size]['predicted'].plot.line(use_index= True)\n",
    "df[valid_point+31:]['predicted'].plot.line(use_index= True)\n",
    "plt.title(\"Axis bank\")\n",
    "plt.legend(['Actual',\"Predicted\"])\n",
    "plt.savefig(\"axis_prediction.jpg\")"
   ]
  },
  {
   "cell_type": "code",
   "execution_count": 556,
   "id": "75aac98e",
   "metadata": {},
   "outputs": [
    {
     "data": {
      "text/plain": [
       "0.021689526208780924"
      ]
     },
     "execution_count": 556,
     "metadata": {},
     "output_type": "execute_result"
    }
   ],
   "source": [
    "import math\n",
    "from sklearn.metrics import mean_absolute_percentage_error\n",
    "mean_absolute_percentage_error(y_train,train_predict)\n"
   ]
  },
  {
   "cell_type": "code",
   "execution_count": 557,
   "id": "3db8a283",
   "metadata": {},
   "outputs": [
    {
     "data": {
      "text/plain": [
       "0.023076392235016136"
      ]
     },
     "execution_count": 557,
     "metadata": {},
     "output_type": "execute_result"
    }
   ],
   "source": [
    "mean_absolute_percentage_error(y_test,test_predict)"
   ]
  },
  {
   "cell_type": "code",
   "execution_count": 558,
   "id": "4bb35191",
   "metadata": {},
   "outputs": [],
   "source": [
    "accuracy=(1-mean_absolute_percentage_error(y_test,test_predict))*100"
   ]
  },
  {
   "cell_type": "code",
   "execution_count": 559,
   "id": "996910d3",
   "metadata": {},
   "outputs": [
    {
     "data": {
      "text/plain": [
       "97.69236077649839"
      ]
     },
     "execution_count": 559,
     "metadata": {},
     "output_type": "execute_result"
    }
   ],
   "source": [
    "accuracy"
   ]
  },
  {
   "cell_type": "code",
   "execution_count": 560,
   "id": "402cb55a",
   "metadata": {},
   "outputs": [],
   "source": [
    "import pickle\n"
   ]
  },
  {
   "cell_type": "code",
   "execution_count": 561,
   "id": "7f05bde8",
   "metadata": {},
   "outputs": [],
   "source": [
    "with open(\"axis_model\",'wb') as file:\n",
    "    pickle.dump(model,file)"
   ]
  },
  {
   "cell_type": "code",
   "execution_count": null,
   "id": "f456b843",
   "metadata": {},
   "outputs": [],
   "source": []
  },
  {
   "cell_type": "code",
   "execution_count": 562,
   "id": "63b693e6",
   "metadata": {},
   "outputs": [],
   "source": [
    "# sbi=97.42\n",
    "# hdfc=98.26\n",
    "# icici=97.69\n",
    "# kotak=97.106\n",
    "# indusind=97.25\n",
    "# pnb=95.86\n",
    "# bob=97.66\n",
    "# axis=97.69"
   ]
  },
  {
   "cell_type": "code",
   "execution_count": null,
   "id": "fad44e70",
   "metadata": {},
   "outputs": [],
   "source": []
  },
  {
   "cell_type": "code",
   "execution_count": 74,
   "id": "599aae77",
   "metadata": {},
   "outputs": [],
   "source": []
  },
  {
   "cell_type": "code",
   "execution_count": null,
   "id": "f59df7a2",
   "metadata": {},
   "outputs": [],
   "source": []
  }
 ],
 "metadata": {
  "kernelspec": {
   "display_name": "Python (ml)",
   "language": "python",
   "name": "ml"
  },
  "language_info": {
   "codemirror_mode": {
    "name": "ipython",
    "version": 3
   },
   "file_extension": ".py",
   "mimetype": "text/x-python",
   "name": "python",
   "nbconvert_exporter": "python",
   "pygments_lexer": "ipython3",
   "version": "3.9.18"
  }
 },
 "nbformat": 4,
 "nbformat_minor": 5
}
